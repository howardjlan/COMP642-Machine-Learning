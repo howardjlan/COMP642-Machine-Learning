{
 "cells": [
  {
   "cell_type": "code",
   "execution_count": 1,
   "metadata": {},
   "outputs": [],
   "source": [
    "import random\n",
    "import numpy as np\n",
    "import matplotlib.pyplot as plt\n",
    "\n",
    "%matplotlib inline\n",
    "plt.rcParams['figure.figsize'] = (10.0, 8.0) # set default size of plots\n",
    "plt.rcParams['image.interpolation'] = 'nearest'\n",
    "plt.rcParams['image.cmap'] = 'gray'\n",
    "\n",
    "%load_ext autoreload\n",
    "%autoreload 2"
   ]
  },
  {
   "cell_type": "code",
   "execution_count": 2,
   "metadata": {},
   "outputs": [
    {
     "data": {
      "image/png": "[encoded data removed]",
      "text/plain": [
       "<Figure size 720x576 with 1 Axes>"
      ]
     },
     "metadata": {
      "needs_background": "light"
     },
     "output_type": "display_data"
    }
   ],
   "source": [
    "import utils \n",
    "from sklearn import preprocessing, metrics\n",
    "\n",
    "############################################################################\n",
    "#  Loading and Visualizing Data                                            #\n",
    "#  We start the exercise by first loading and visualizing the dataset.     #\n",
    "#  The following code will load the dataset into your environment and plot #\n",
    "#  the data.                                                               #\n",
    "############################################################################\n",
    "\n",
    "\n",
    "\n",
    "X,y = utils.load_mat('data/ex4data1.mat')\n",
    "\n",
    "utils.plot_twoclass_data(X,y,'x1', 'x2',['neg','pos'])\n",
    "plt.show()"
   ]
  },
  {
   "cell_type": "markdown",
   "metadata": {},
   "source": [
    "## Question 1 Implement SVM with sklearn\n",
    "\n",
    "Implement SVM classifier to classify the dataset, and vary the value of C. What do you observe ?"
   ]
  },
  {
   "cell_type": "code",
   "execution_count": null,
   "metadata": {},
   "outputs": [],
   "source": [
    "from sklearn.svm import LinearSVC\n",
    "############################################################################\n",
    "# Scale the data and set up the SVM training                               #\n",
    "############################################################################\n",
    "\n",
    "# scale the data\n",
    "\n",
    "scaler = preprocessing.StandardScaler().fit(X)\n",
    "scaleX = scaler.transform(X)\n",
    "\n",
    "# add an intercept term and convert y values from [0,1] to [-1,1]\n",
    "\n",
    "XX = np.array([(1,x1,x2) for (x1,x2) in scaleX])\n",
    "yy = np.ones(y.shape)\n",
    "yy[y == 0] = -1\n",
    "yy[y == 0] = -1\n",
    "\n",
    "############################################################################\n",
    "#  Training linear SVM                                                     #\n",
    "#  Train a linear SVM on the data set and the plot the learned             #\n",
    "#  decision boundary                                                       #\n",
    "############################################################################\n",
    "\n",
    "############################################################################\n",
    "# TODO :: You will change this line below to vary C.                       #\n",
    "############################################################################\n",
    "C = 1\n",
    "\n",
    "# TODO :: define your svm classifier by using sklearn LinearSVC; expect 1 line of code\n",
    "\n",
    "# TODO :: fit on your training data; expect 1 line of code\n",
    "\n",
    "\n",
    "\n",
    "# TODO :: classify the training data; expect 1 line of code\n",
    "y_pred = svm.predict(XX)\n",
    "\n",
    "print(\"Accuracy on training data = %.3f\" %metrics.accuracy_score(yy,y_pred))\n",
    "\n",
    "# visualize the decision boundarFy\n",
    "\n",
    "utils.plot_decision_boundary(scaleX,y,svm,'x1','x2',['neg','pos'])"
   ]
  },
  {
   "cell_type": "markdown",
   "metadata": {},
   "source": [
    "## Question 2 Add PolynomialFeatures\n",
    "\n",
    "Add polynomial features to the data and fit the LinearSVC with the new dataset.   Tune the degree of the feature interaction to make the model correctly classify all the data in training set."
   ]
  },
  {
   "cell_type": "code",
   "execution_count": null,
   "metadata": {},
   "outputs": [],
   "source": [
    "# TODO :: expect 13 - 15 lines of code\n"
   ]
  }
 ],
 "metadata": {
  "kernelspec": {
   "display_name": "Python 3",
   "language": "python",
   "name": "python3"
  },
  "language_info": {
   "codemirror_mode": {
    "name": "ipython",
    "version": 3
   },
   "file_extension": ".py",
   "mimetype": "text/x-python",
   "name": "python",
   "nbconvert_exporter": "python",
   "pygments_lexer": "ipython3",
   "version": "3.8.3"
  }
 },
 "nbformat": 4,
 "nbformat_minor": 2
}
