{
 "cells": [
  {
   "cell_type": "code",
   "execution_count": null,
   "metadata": {},
   "outputs": [],
   "source": [
    "import matplotlib.pyplot as plt\n",
    "\n",
    "import pandas as pd"
   ]
  },
  {
   "cell_type": "code",
   "execution_count": null,
   "metadata": {},
   "outputs": [],
   "source": [
    "dataset = pd.read_csv(\"./play_tennis.csv\")"
   ]
  },
  {
   "cell_type": "code",
   "execution_count": null,
   "metadata": {},
   "outputs": [],
   "source": [
    "dataset"
   ]
  },
  {
   "cell_type": "code",
   "execution_count": null,
   "metadata": {},
   "outputs": [],
   "source": [
    "categorical_cols = [\"outlook\", \"temp\", \"humidity\", \"wind\"]\n",
    "for column in categorical_cols:\n",
    "    dataset[column] = pd.factorize(dataset[column])[0]\n",
    "dataset"
   ]
  },
  {
   "cell_type": "code",
   "execution_count": null,
   "metadata": {},
   "outputs": [],
   "source": [
    "dataset[\"play\"] = dataset[\"play\"].replace(\"Yes\", 1)\n",
    "dataset[\"play\"] = dataset[\"play\"].replace(\"No\", 0)\n",
    "target = dataset[\"play\"]\n",
    "dataset = dataset.drop(\"play\", axis = 1)\n",
    "dataset = dataset.drop(\"day\", axis = 1)"
   ]
  },
  {
   "cell_type": "code",
   "execution_count": null,
   "metadata": {},
   "outputs": [],
   "source": [
    "dataset"
   ]
  },
  {
   "cell_type": "code",
   "execution_count": null,
   "metadata": {},
   "outputs": [],
   "source": [
    "from sklearn.model_selection import train_test_split\n",
    "X_train, X_test, y_train, y_test = train_test_split(dataset, target, test_size = 0.33, random_state = 42)"
   ]
  },
  {
   "cell_type": "markdown",
   "metadata": {},
   "source": [
    "### Question 1 Implement Decision Tree "
   ]
  },
  {
   "cell_type": "code",
   "execution_count": null,
   "metadata": {},
   "outputs": [],
   "source": [
    "from sklearn.tree import DecisionTreeClassifier, export_graphviz\n",
    "# TODO :: define a sklearn DecisionTreeClassifier and set the max_depth to 3, expect 1 line of code\n",
    "\n",
    "# TODO :: fit the classifier your defined earlier, and fit on training data\n"
   ]
  },
  {
   "cell_type": "code",
   "execution_count": null,
   "metadata": {},
   "outputs": [],
   "source": [
    "import numpy as np\n",
    "y_pred_train = decision_tree_binary_classifier.predict(X_train)\n",
    "num_correct = np.sum(y_pred_train == y_train)\n",
    "print(\"accuracy on test set : {}\".format(num_correct / float(len(y_train))))"
   ]
  },
  {
   "cell_type": "code",
   "execution_count": null,
   "metadata": {},
   "outputs": [],
   "source": [
    "y_pred_test = decision_tree_binary_classifier.predict(X_test)\n",
    "num_correct = np.sum(y_pred_test == y_test)\n",
    "print(\"accuracy on test set : {}\".format(num_correct / float(len(y_pred_test))))"
   ]
  },
  {
   "cell_type": "markdown",
   "metadata": {},
   "source": [
    "### Question 2 Tune the depth of the tree\n",
    "\n",
    "Tune the max_depth parameter of DecisionTreeClassifier, how the training accuracy and test accuracy change when you vary the value of max_depth ?"
   ]
  },
  {
   "cell_type": "code",
   "execution_count": null,
   "metadata": {},
   "outputs": [],
   "source": []
  }
 ],
 "metadata": {
  "kernelspec": {
   "display_name": "Python (kaggle3.6)",
   "language": "python",
   "name": "myenv"
  },
  "language_info": {
   "codemirror_mode": {
    "name": "ipython",
    "version": 3
   },
   "file_extension": ".py",
   "mimetype": "text/x-python",
   "name": "python",
   "nbconvert_exporter": "python",
   "pygments_lexer": "ipython3",
   "version": "3.6.8"
  }
 },
 "nbformat": 4,
 "nbformat_minor": 2
}
