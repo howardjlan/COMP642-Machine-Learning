{
 "cells": [
  {
   "cell_type": "code",
   "execution_count": 53,
   "metadata": {},
   "outputs": [],
   "source": [
    "from sklearn.preprocessing import StandardScaler\n",
    "from sklearn import preprocessing\n",
    "import numpy as np"
   ]
  },
  {
   "cell_type": "code",
   "execution_count": 54,
   "metadata": {},
   "outputs": [],
   "source": [
    "scaler = StandardScaler()"
   ]
  },
  {
   "cell_type": "code",
   "execution_count": 121,
   "metadata": {},
   "outputs": [
    {
     "name": "stdout",
     "output_type": "stream",
     "text": [
      "[[ 0.52 -0.07]\n",
      " [-1.15 -0.8 ]\n",
      " [ 1.19 -1.04]\n",
      " [-1.32 -0.07]\n",
      " [ 0.02  2.35]\n",
      " [-0.82 -0.56]\n",
      " [-0.65 -0.32]\n",
      " [ 1.69 -0.32]\n",
      " [-0.49  1.38]\n",
      " [ 1.02 -0.56]]\n",
      "[ 5.39 64.6 ]\n",
      "[0.59741108 8.24863625]\n"
     ]
    }
   ],
   "source": [
    "data = np.array([[5.7,64], [4.7,58], [6.1,56], [4.6,64], [5.4,84], [4.9,60], [5.0,62], [6.4,62], [5.1,76], [6.0,60]])\n",
    "scaled_data = preprocessing.scale(data)\n",
    "print(np.round(scaled_data, 2))\n",
    "the_mean = data.mean(axis=0)\n",
    "the_std = data.std(axis=0)"
   ]
  },
  {
   "cell_type": "code",
   "execution_count": 59,
   "metadata": {},
   "outputs": [
    {
     "data": {
      "text/plain": [
       "[[0.3515167471629259, -0.5576679417142021],\n",
       " [0.85368352882425, -0.5576679417142021],\n",
       " [-0.318038961718837, 1.2608144769190677]]"
      ]
     },
     "execution_count": 59,
     "metadata": {},
     "output_type": "execute_result"
    }
   ],
   "source": [
    "initial_centroids = [[5.6, 60], [5.9, 60], [5.2, 75]]\n",
    "scaled_centroids = [[(initial_centroids[pair][0]-the_mean[0])/the_std[0], (initial_centroids[pair][1]-the_mean[1])/the_std[1]] \n",
    " for pair in range(len(initial_centroids))]\n",
    "scaled_centroids"
   ]
  },
  {
   "cell_type": "code",
   "execution_count": 60,
   "metadata": {},
   "outputs": [],
   "source": [
    "def manDist(li1, li2):\n",
    "    return abs(li1[0] - li2[0]) + abs(li1[1] - li2[1])"
   ]
  },
  {
   "cell_type": "code",
   "execution_count": 61,
   "metadata": {},
   "outputs": [
    {
     "name": "stdout",
     "output_type": "stream",
     "text": [
      "0.6523175721893139\n",
      "0.8197064994097543\n"
     ]
    }
   ],
   "source": [
    "print(manDist(scaled_data[0], scaled_centroids[0]))\n",
    "print(manDist(scaled_data[0], scaled_centroids[1]))"
   ]
  },
  {
   "cell_type": "code",
   "execution_count": 79,
   "metadata": {
    "scrolled": true
   },
   "outputs": [
    {
     "data": {
      "text/plain": [
       "[[0.6523, 0.8197, 2.1705, 0.6523, 'μ1'],\n",
       " [1.749, 2.2511, 2.8979, 1.749, 'μ1'],\n",
       " [1.3219, 0.8197, 3.8099, 0.8197, 'μ2'],\n",
       " [2.1588, 2.661, 2.3379, 2.1588, 'μ1'],\n",
       " [3.2443, 3.7465, 1.4259, 1.4259, 'μ3'],\n",
       " [1.1717, 1.6739, 2.3206, 1.1717, 'μ1'],\n",
       " [1.2468, 1.749, 1.9108, 1.2468, 'μ1'],\n",
       " [1.5816, 1.0794, 3.5847, 1.0794, 'μ2'],\n",
       " [2.7767, 3.2788, 0.2886, 0.2886, 'μ3'],\n",
       " [0.6696, 0.1674, 3.1576, 0.1674, 'μ2']]"
      ]
     },
     "execution_count": 79,
     "metadata": {},
     "output_type": "execute_result"
    }
   ],
   "source": [
    "output = []\n",
    "for i in range(len(scaled_data)):\n",
    "    temp = []\n",
    "    for j in range(len(initial_centroids)):\n",
    "        temp.append(round(manDist(scaled_data[i], scaled_centroids[j]),4))\n",
    "    temp.append(min(temp))\n",
    "    if(temp.index(min(temp)) == 0):\n",
    "        temp.append(\"\\u03bc1\")\n",
    "    elif(temp.index(min(temp)) == 1):\n",
    "        temp.append(\"\\u03bc2\")\n",
    "    else:\n",
    "        temp.append(\"\\u03bc3\")\n",
    "    output.append(temp)\n",
    "output"
   ]
  },
  {
   "cell_type": "code",
   "execution_count": 116,
   "metadata": {},
   "outputs": [
    {
     "name": "stdout",
     "output_type": "stream",
     "text": [
      "[[-0.6862946  -0.36369648]\n",
      " [ 1.300054   -0.63848938]\n",
      " [-0.2343445   1.86697528]]\n"
     ]
    }
   ],
   "source": [
    "new_centroids = [(scaled_data[0] + scaled_data[1] + scaled_data[3] + scaled_data[5] + scaled_data[6])/5]\n",
    "new_centroids = np.append(new_centroids, [(scaled_data[2] + scaled_data[7] + scaled_data[9])/3], axis=0)\n",
    "new_centroids = np.append(new_centroids, [(scaled_data[4] + scaled_data[8])/2], axis=0)\n",
    "print(new_centroids)"
   ]
  },
  {
   "cell_type": "code",
   "execution_count": 108,
   "metadata": {},
   "outputs": [
    {
     "data": {
      "text/plain": [
       "[[1.4962, 1.3469, 2.693, 1.3469, 'μ2'],\n",
       " [0.9051, 2.6167, 3.5877, 0.9051, 'μ1'],\n",
       " [2.5537, 0.5157, 4.3324, 0.5157, 'μ2'],\n",
       " [0.927, 3.1882, 3.0277, 0.927, 'μ1'],\n",
       " [3.4186, 4.2737, 0.736, 0.736, 'μ3'],\n",
       " [0.3279, 2.2011, 3.0105, 0.3279, 'μ1'],\n",
       " [0.082, 2.2762, 2.6007, 0.082, 'μ1'],\n",
       " [2.4254, 0.7139, 4.1072, 0.7139, 'μ2'],\n",
       " [1.9466, 3.806, 0.736, 0.736, 'μ3'],\n",
       " [1.9013, 0.3598, 3.6801, 0.3598, 'μ2']]"
      ]
     },
     "execution_count": 108,
     "metadata": {},
     "output_type": "execute_result"
    }
   ],
   "source": [
    "output = []\n",
    "for i in range(len(scaled_data)):\n",
    "    temp = []\n",
    "    for j in range(len(new_centroids)):\n",
    "        temp.append(round(manDist(scaled_data[i], new_centroids[j]),4))\n",
    "    temp.append(min(temp))\n",
    "    if(temp.index(min(temp)) == 0):\n",
    "        temp.append(\"\\u03bc1\")\n",
    "    elif(temp.index(min(temp)) == 1):\n",
    "        temp.append(\"\\u03bc2\")\n",
    "    else:\n",
    "        temp.append(\"\\u03bc3\")\n",
    "    output.append(temp)\n",
    "output"
   ]
  },
  {
   "cell_type": "code",
   "execution_count": 118,
   "metadata": {},
   "outputs": [
    {
     "data": {
      "text/plain": [
       "array([[-0.98759467, -0.43643578],\n",
       "       [ 1.10476692, -0.49705186],\n",
       "       [-0.2343445 ,  1.86697528]])"
      ]
     },
     "execution_count": 118,
     "metadata": {},
     "output_type": "execute_result"
    }
   ],
   "source": [
    "new_centroids2 = [(scaled_data[1] + scaled_data[3]+ scaled_data[5] + scaled_data[6])/4]\n",
    "new_centroids2 = np.append(new_centroids2, [(scaled_data[0] + scaled_data[2] + scaled_data[7] + scaled_data[9])/4], axis=0)\n",
    "new_centroids2 = np.append(new_centroids2, [(scaled_data[4] + scaled_data[8])/2], axis=0)\n",
    "new_centroids2"
   ]
  },
  {
   "cell_type": "code",
   "execution_count": null,
   "metadata": {},
   "outputs": [],
   "source": []
  }
 ],
 "metadata": {
  "kernelspec": {
   "display_name": "Python 3",
   "language": "python",
   "name": "python3"
  },
  "language_info": {
   "codemirror_mode": {
    "name": "ipython",
    "version": 3
   },
   "file_extension": ".py",
   "mimetype": "text/x-python",
   "name": "python",
   "nbconvert_exporter": "python",
   "pygments_lexer": "ipython3",
   "version": "3.8.3"
  }
 },
 "nbformat": 4,
 "nbformat_minor": 4
}
