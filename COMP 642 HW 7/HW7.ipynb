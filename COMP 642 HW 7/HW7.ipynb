{
 "cells": [
  {
   "cell_type": "code",
   "execution_count": 2,
   "metadata": {},
   "outputs": [],
   "source": [
    "from sklearn.preprocessing import StandardScaler\n",
    "from sklearn import preprocessing\n",
    "import numpy as np"
   ]
  },
  {
   "cell_type": "code",
   "execution_count": 3,
   "metadata": {},
   "outputs": [],
   "source": [
    "scaler = StandardScaler()"
   ]
  },
  {
   "cell_type": "code",
   "execution_count": 10,
   "metadata": {},
   "outputs": [
    {
     "name": "stdout",
     "output_type": "stream",
     "text": [
      "[[ 0.52 -0.07]\n",
      " [-1.15 -0.8 ]\n",
      " [ 1.19 -1.04]\n",
      " [-1.32 -0.07]\n",
      " [ 0.02  2.35]\n",
      " [-0.82 -0.56]\n",
      " [-0.65 -0.32]\n",
      " [ 1.69 -0.32]\n",
      " [-0.49  1.38]\n",
      " [ 1.02 -0.56]]\n"
     ]
    }
   ],
   "source": [
    "data = np.array([[5.7,64], [4.7,58], [6.1,56], [4.6,64], [5.4,84], [4.9,60], [5.0,62], [6.4,62], [5.1,76], [6.0,60]])\n",
    "scaled_data = preprocessing.scale(data)\n",
    "print(np.round(scaled_data, 2))\n",
    "the_mean = data.mean(axis=0)\n",
    "the_std = data.std(axis=0)"
   ]
  },
  {
   "cell_type": "code",
   "execution_count": 11,
   "metadata": {},
   "outputs": [
    {
     "data": {
      "text/plain": [
       "array([[ 0.35, -0.56],\n",
       "       [ 0.85, -0.56],\n",
       "       [-0.32,  1.26]])"
      ]
     },
     "execution_count": 11,
     "metadata": {},
     "output_type": "execute_result"
    }
   ],
   "source": [
    "initial_centroids = [[5.6, 60], [5.9, 60], [5.2, 75]]\n",
    "scaled_centroids = [[(initial_centroids[pair][0]-the_mean[0])/the_std[0], (initial_centroids[pair][1]-the_mean[1])/the_std[1]] \n",
    " for pair in range(len(initial_centroids))]\n",
    "scaled_centroids = np.round(np.array(scaled_centroids),2)\n",
    "scaled_centroids"
   ]
  },
  {
   "cell_type": "code",
   "execution_count": 13,
   "metadata": {},
   "outputs": [],
   "source": [
    "def manDist(li1, li2):\n",
    "    return abs(li1[0] - li2[0]) + abs(li1[1] - li2[1])"
   ]
  },
  {
   "cell_type": "code",
   "execution_count": 14,
   "metadata": {},
   "outputs": [
    {
     "name": "stdout",
     "output_type": "stream",
     "text": [
      "0.6561663776380378\n",
      "0.8183550288713022\n"
     ]
    }
   ],
   "source": [
    "print(manDist(scaled_data[0], scaled_centroids[0]))\n",
    "print(manDist(scaled_data[0], scaled_centroids[1]))"
   ]
  },
  {
   "cell_type": "code",
   "execution_count": 15,
   "metadata": {
    "scrolled": true
   },
   "outputs": [
    {
     "data": {
      "text/plain": [
       "[[0.66, 0.82, 2.17, 0.66, 'μ1'],\n",
       " [1.75, 2.25, 2.9, 1.75, 'μ1'],\n",
       " [1.32, 0.82, 3.81, 0.82, 'μ2'],\n",
       " [2.16, 2.66, 2.34, 2.16, 'μ1'],\n",
       " [3.25, 3.75, 1.43, 1.43, 'μ3'],\n",
       " [1.17, 1.67, 2.32, 1.17, 'μ1'],\n",
       " [1.25, 1.75, 1.91, 1.25, 'μ1'],\n",
       " [1.59, 1.09, 3.59, 1.09, 'μ2'],\n",
       " [2.78, 3.28, 0.29, 0.29, 'μ3'],\n",
       " [0.67, 0.17, 3.16, 0.17, 'μ2']]"
      ]
     },
     "execution_count": 15,
     "metadata": {},
     "output_type": "execute_result"
    }
   ],
   "source": [
    "output = []\n",
    "for i in range(len(scaled_data)):\n",
    "    temp = []\n",
    "    for j in range(len(initial_centroids)):\n",
    "        temp.append(round(manDist(scaled_data[i], scaled_centroids[j]),2))\n",
    "    temp.append(min(temp))\n",
    "    if(temp.index(min(temp)) == 0):\n",
    "        temp.append(\"\\u03bc1\")\n",
    "    elif(temp.index(min(temp)) == 1):\n",
    "        temp.append(\"\\u03bc2\")\n",
    "    else:\n",
    "        temp.append(\"\\u03bc3\")\n",
    "    output.append(temp)\n",
    "output"
   ]
  },
  {
   "cell_type": "code",
   "execution_count": 17,
   "metadata": {},
   "outputs": [
    {
     "name": "stdout",
     "output_type": "stream",
     "text": [
      "[[-0.69 -0.36]\n",
      " [ 1.3  -0.64]\n",
      " [-0.23  1.87]]\n"
     ]
    }
   ],
   "source": [
    "new_centroids = [(scaled_data[0] + scaled_data[1] + scaled_data[3] + scaled_data[5] + scaled_data[6])/5]\n",
    "new_centroids = np.append(new_centroids, [(scaled_data[2] + scaled_data[7] + scaled_data[9])/3], axis=0)\n",
    "new_centroids = np.append(new_centroids, [(scaled_data[4] + scaled_data[8])/2], axis=0)\n",
    "new_centroids = np.round(new_centroids, 2)\n",
    "print(new_centroids)"
   ]
  },
  {
   "cell_type": "code",
   "execution_count": 18,
   "metadata": {},
   "outputs": [
    {
     "data": {
      "text/plain": [
       "[[1.5, 1.35, 2.69, 1.35, 'μ2'],\n",
       " [0.91, 2.62, 3.6, 0.91, 'μ1'],\n",
       " [2.56, 0.51, 4.33, 0.51, 'μ2'],\n",
       " [0.92, 3.19, 3.04, 0.92, 'μ1'],\n",
       " [3.42, 4.28, 0.73, 0.73, 'μ3'],\n",
       " [0.33, 2.2, 3.02, 0.33, 'μ1'],\n",
       " [0.08, 2.28, 2.61, 0.08, 'μ1'],\n",
       " [2.43, 0.72, 4.11, 0.72, 'μ2'],\n",
       " [1.95, 3.81, 0.74, 0.74, 'μ3'],\n",
       " [1.91, 0.36, 3.68, 0.36, 'μ2']]"
      ]
     },
     "execution_count": 18,
     "metadata": {},
     "output_type": "execute_result"
    }
   ],
   "source": [
    "output = []\n",
    "for i in range(len(scaled_data)):\n",
    "    temp = []\n",
    "    for j in range(len(new_centroids)):\n",
    "        temp.append(round(manDist(scaled_data[i], new_centroids[j]),2))\n",
    "    temp.append(min(temp))\n",
    "    if(temp.index(min(temp)) == 0):\n",
    "        temp.append(\"\\u03bc1\")\n",
    "    elif(temp.index(min(temp)) == 1):\n",
    "        temp.append(\"\\u03bc2\")\n",
    "    else:\n",
    "        temp.append(\"\\u03bc3\")\n",
    "    output.append(temp)\n",
    "output"
   ]
  },
  {
   "cell_type": "code",
   "execution_count": 19,
   "metadata": {},
   "outputs": [
    {
     "data": {
      "text/plain": [
       "array([[-0.99, -0.44],\n",
       "       [ 1.1 , -0.5 ],\n",
       "       [-0.23,  1.87]])"
      ]
     },
     "execution_count": 19,
     "metadata": {},
     "output_type": "execute_result"
    }
   ],
   "source": [
    "new_centroids2 = [(scaled_data[1] + scaled_data[3]+ scaled_data[5] + scaled_data[6])/4]\n",
    "new_centroids2 = np.append(new_centroids2, [(scaled_data[0] + scaled_data[2] + scaled_data[7] + scaled_data[9])/4], axis=0)\n",
    "new_centroids2 = np.append(new_centroids2, [(scaled_data[4] + scaled_data[8])/2], axis=0)\n",
    "new_centroids2 = np.round(new_centroids2, 2)\n",
    "new_centroids2"
   ]
  },
  {
   "cell_type": "code",
   "execution_count": 20,
   "metadata": {},
   "outputs": [
    {
     "data": {
      "text/plain": [
       "[[1.88, 1.01, 2.69, 1.01, 'μ2'],\n",
       " [0.53, 2.56, 3.6, 0.53, 'μ1'],\n",
       " [2.78, 0.63, 4.33, 0.63, 'μ2'],\n",
       " [0.7, 2.85, 3.04, 0.7, 'μ1'],\n",
       " [3.8, 3.94, 0.73, 0.73, 'μ3'],\n",
       " [0.29, 1.98, 3.02, 0.29, 'μ1'],\n",
       " [0.46, 1.94, 2.61, 0.46, 'μ1'],\n",
       " [2.81, 0.78, 4.11, 0.78, 'μ2'],\n",
       " [2.33, 3.47, 0.74, 0.74, 'μ3'],\n",
       " [2.13, 0.14, 3.68, 0.14, 'μ2']]"
      ]
     },
     "execution_count": 20,
     "metadata": {},
     "output_type": "execute_result"
    }
   ],
   "source": [
    "final = []\n",
    "for i in range(len(scaled_data)):\n",
    "    temp = []\n",
    "    for j in range(len(new_centroids2)):\n",
    "        temp.append(round(manDist(scaled_data[i], new_centroids2[j]),2))\n",
    "    temp.append(min(temp))\n",
    "    if(temp.index(min(temp)) == 0):\n",
    "        temp.append(\"\\u03bc1\")\n",
    "    elif(temp.index(min(temp)) == 1):\n",
    "        temp.append(\"\\u03bc2\")\n",
    "    else:\n",
    "        temp.append(\"\\u03bc3\")\n",
    "    final.append(temp)\n",
    "final"
   ]
  },
  {
   "cell_type": "code",
   "execution_count": 3,
   "metadata": {},
   "outputs": [],
   "source": [
    "import math\n",
    "\n",
    "red_points = [[4.7,3.2], [4.9,3.1], [5.0,3.0], [4.6,2.9]]\n",
    "blue_points = [[5.9,3.2], [6.0,3.0], [6.7,3.1], [6.2,2.8]]"
   ]
  },
  {
   "cell_type": "code",
   "execution_count": 18,
   "metadata": {},
   "outputs": [
    {
     "name": "stdout",
     "output_type": "stream",
     "text": [
      "\n",
      "average linkage = 1.41\n"
     ]
    },
    {
     "data": {
      "text/plain": [
       "[[[4.7, 3.2], [5.9, 3.2], 1.2000000000000002],\n",
       " [[4.7, 3.2], [6.0, 3.0], 1.3152946437965904],\n",
       " [[4.7, 3.2], [6.7, 3.1], 2.0024984394500787],\n",
       " [[4.7, 3.2], [6.2, 2.8], 1.5524174696260025],\n",
       " [[4.9, 3.1], [5.9, 3.2], 1.004987562112089],\n",
       " [[4.9, 3.1], [6.0, 3.0], 1.1045361017187258],\n",
       " [[4.9, 3.1], [6.7, 3.1], 1.7999999999999998],\n",
       " [[4.9, 3.1], [6.2, 2.8], 1.3341664064126333],\n",
       " [[5.0, 3.0], [5.9, 3.2], 0.9219544457292891],\n",
       " [[5.0, 3.0], [6.0, 3.0], 1.0],\n",
       " [[5.0, 3.0], [6.7, 3.1], 1.7029386365926404],\n",
       " [[5.0, 3.0], [6.2, 2.8], 1.216552506059644],\n",
       " [[4.6, 2.9], [5.9, 3.2], 1.3341664064126342],\n",
       " [[4.6, 2.9], [6.0, 3.0], 1.4035668847618203],\n",
       " [[4.6, 2.9], [6.7, 3.1], 2.109502310972899],\n",
       " [[4.6, 2.9], [6.2, 2.8], 1.6031219541881403]]"
      ]
     },
     "execution_count": 18,
     "metadata": {},
     "output_type": "execute_result"
    }
   ],
   "source": [
    "def calcDist(p1, p2):\n",
    "    return math.sqrt( ((p1[0]-p2[0])**2)+((p1[1]-p2[1])**2) )\n",
    "\n",
    "result = []\n",
    "for i in range(len(red_points)):\n",
    "    temp = []\n",
    "    for j in range(len(blue_points)):\n",
    "        temp.append(red_points[i])\n",
    "        temp.append(blue_points[j])\n",
    "        temp.append(calcDist(red_points[i], blue_points[j]))\n",
    "        result.append(temp)\n",
    "        temp = []\n",
    "\n",
    "total = 0\n",
    "for i in range(len(result)):\n",
    "    total = total + result[i][2]\n",
    "print()\n",
    "print(\"average linkage = \" + str(round(total/16,2)))\n",
    "result"
   ]
  },
  {
   "cell_type": "code",
   "execution_count": null,
   "metadata": {},
   "outputs": [],
   "source": []
  }
 ],
 "metadata": {
  "kernelspec": {
   "display_name": "Python 3",
   "language": "python",
   "name": "python3"
  },
  "language_info": {
   "codemirror_mode": {
    "name": "ipython",
    "version": 3
   },
   "file_extension": ".py",
   "mimetype": "text/x-python",
   "name": "python",
   "nbconvert_exporter": "python",
   "pygments_lexer": "ipython3",
   "version": "3.8.3"
  }
 },
 "nbformat": 4,
 "nbformat_minor": 4
}
